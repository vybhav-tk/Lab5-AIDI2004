{
 "cells": [
  {
   "cell_type": "code",
   "execution_count": 3,
   "id": "3bfec735-1df1-4eab-95e4-d092a34e6f8e",
   "metadata": {},
   "outputs": [],
   "source": [
    "# train_svr_model.py\n",
    "\n",
    "import pandas as pd\n",
    "from sklearn.preprocessing import LabelEncoder, StandardScaler\n",
    "from sklearn.svm import SVR\n",
    "from sklearn.pipeline import make_pipeline\n",
    "import pickle\n",
    "\n",
    "# Load the dataset\n",
    "data = pd.read_csv(r'C:\\Users\\vybha\\Desktop\\TK\\AIDI2004Lab5\\Fish.csv')\n",
    "\n",
    "# Encode the species column\n",
    "label_encoder = LabelEncoder()\n",
    "data['Species'] = label_encoder.fit_transform(data['Species'])\n",
    "\n",
    "# Features and target variable\n",
    "X = data[['Species', 'Length1', 'Length2', 'Length3', 'Height', 'Width']]\n",
    "y = data['Weight']\n",
    "\n",
    "# Create a pipeline with a scaler and SVR\n",
    "pipeline = make_pipeline(StandardScaler(), SVR(kernel='linear'))\n",
    "\n",
    "# Train the model\n",
    "pipeline.fit(X, y)\n",
    "\n",
    "# Save the model and label encoder\n",
    "with open('svr_model.pkl', 'wb') as model_file:\n",
    "    pickle.dump(pipeline, model_file)\n",
    "\n",
    "with open('label_encoder.pkl', 'wb') as le_file:\n",
    "    pickle.dump(label_encoder, le_file)"
   ]
  },
  {
   "cell_type": "code",
   "execution_count": null,
   "id": "05e23b37-2b9f-44f6-9642-91f73bac622a",
   "metadata": {},
   "outputs": [],
   "source": []
  }
 ],
 "metadata": {
  "kernelspec": {
   "display_name": "Python 3 (ipykernel)",
   "language": "python",
   "name": "python3"
  },
  "language_info": {
   "codemirror_mode": {
    "name": "ipython",
    "version": 3
   },
   "file_extension": ".py",
   "mimetype": "text/x-python",
   "name": "python",
   "nbconvert_exporter": "python",
   "pygments_lexer": "ipython3",
   "version": "3.11.7"
  }
 },
 "nbformat": 4,
 "nbformat_minor": 5
}
